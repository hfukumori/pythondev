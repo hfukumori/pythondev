{
 "cells": [
  {
   "cell_type": "code",
   "execution_count": 2,
   "id": "7cc5a85c",
   "metadata": {},
   "outputs": [
    {
     "name": "stdout",
     "output_type": "stream",
     "text": [
      "私の名前は 福盛 です。来年で 41 歳になります。\n"
     ]
    }
   ],
   "source": [
    "name = input(\"名前を入力してください:\")\n",
    "age = input(\"現在の年齢を入力してください:\")\n",
    "print(\"私の名前は\", name, \"です。来年で\", int(age) + 1, \"歳になります。\")"
   ]
  }
 ],
 "metadata": {
  "kernelspec": {
   "display_name": ".venv",
   "language": "python",
   "name": "python3"
  },
  "language_info": {
   "codemirror_mode": {
    "name": "ipython",
    "version": 3
   },
   "file_extension": ".py",
   "mimetype": "text/x-python",
   "name": "python",
   "nbconvert_exporter": "python",
   "pygments_lexer": "ipython3",
   "version": "3.12.11"
  }
 },
 "nbformat": 4,
 "nbformat_minor": 5
}
