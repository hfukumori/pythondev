{
 "cells": [
  {
   "cell_type": "code",
   "execution_count": 3,
   "id": "b2519626",
   "metadata": {},
   "outputs": [
    {
     "name": "stdout",
     "output_type": "stream",
     "text": [
      "送料として350円かかります\n",
      "送料込みの価格は2330円です。\n"
     ]
    }
   ],
   "source": [
    "price_before_tax = input(\"税抜価格を入力してください:\")\n",
    "price = int(round(float(price_before_tax) * 1.1))\n",
    "shipping_fee = 0\n",
    "if price >= 2000:\n",
    "    print(\"送料は無料です\")\n",
    "else:\n",
    "    shipping_fee = 350\n",
    "    print(f\"送料として{shipping_fee}円かかります\")\n",
    "print(f\"送料込みの価格は{price + shipping_fee}円です。\")\n"
   ]
  }
 ],
 "metadata": {
  "kernelspec": {
   "display_name": ".venv",
   "language": "python",
   "name": "python3"
  },
  "language_info": {
   "codemirror_mode": {
    "name": "ipython",
    "version": 3
   },
   "file_extension": ".py",
   "mimetype": "text/x-python",
   "name": "python",
   "nbconvert_exporter": "python",
   "pygments_lexer": "ipython3",
   "version": "3.12.11"
  }
 },
 "nbformat": 4,
 "nbformat_minor": 5
}
