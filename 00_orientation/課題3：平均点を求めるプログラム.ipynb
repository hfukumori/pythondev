{
 "cells": [
  {
   "cell_type": "code",
   "execution_count": 4,
   "id": "6df332b8",
   "metadata": {},
   "outputs": [
    {
     "name": "stdout",
     "output_type": "stream",
     "text": [
      "10人のテストの平均点は73.4点です。\n"
     ]
    }
   ],
   "source": [
    "count = 0\n",
    "total = 0\n",
    "while True:\n",
    "    score = input(\"点数を入力してください: \")\n",
    "    if score == \"-1\":\n",
    "        break\n",
    "    total += int(score)\n",
    "    count += 1\n",
    "if count > 0:\n",
    "    average = round(total / count, 1)\n",
    "    print(f\"{count}人のテストの平均点は{average}点です。\")\n",
    "else:\n",
    "    print(\"テストの点数が入力されていません。\")"
   ]
  }
 ],
 "metadata": {
  "kernelspec": {
   "display_name": ".venv",
   "language": "python",
   "name": "python3"
  },
  "language_info": {
   "codemirror_mode": {
    "name": "ipython",
    "version": 3
   },
   "file_extension": ".py",
   "mimetype": "text/x-python",
   "name": "python",
   "nbconvert_exporter": "python",
   "pygments_lexer": "ipython3",
   "version": "3.12.11"
  }
 },
 "nbformat": 4,
 "nbformat_minor": 5
}
