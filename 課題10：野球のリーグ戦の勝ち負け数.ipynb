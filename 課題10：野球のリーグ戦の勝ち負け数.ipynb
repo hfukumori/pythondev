{
 "cells": [
  {
   "cell_type": "code",
   "execution_count": 1,
   "id": "7e77836e",
   "metadata": {},
   "outputs": [],
   "source": [
    "class Baseball_Team:\n",
    "    def __init__(self, name, win, lose, draw):\n",
    "        self.name = name\n",
    "        self.win = win\n",
    "        self.lose = lose\n",
    "        self.draw = draw\n",
    "    \n",
    "    def calc_win_rate(self):\n",
    "        return self.win / (self.win + self.lose)\n",
    "\n",
    "    def show_team_result(self):\n",
    "        print(f\"{self.name: <8}{self.win: >5}{self.lose: >5}{self.draw: >5} {self.calc_win_rate():.3f}\")"
   ]
  },
  {
   "cell_type": "code",
   "execution_count": 2,
   "id": "a60a380c",
   "metadata": {},
   "outputs": [
    {
     "name": "stdout",
     "output_type": "stream",
     "text": [
      "team      win lose draw rate\n",
      "Archers    77   64    2 0.546\n",
      "Meteors    71   69    3 0.507\n",
      "Cheetahs   69   68    6 0.504\n",
      "Sharks     70   70    3 0.500\n",
      "Pythons    68   73    2 0.482\n",
      "Owls       59   82    2 0.418\n"
     ]
    }
   ],
   "source": [
    "teams = [\n",
    "    Baseball_Team(\"Archers\", 77, 64, 2),\n",
    "    Baseball_Team(\"Meteors\", 71, 69, 3),\n",
    "    Baseball_Team(\"Cheetahs\", 69, 68, 6),\n",
    "    Baseball_Team(\"Sharks\", 70, 70, 3),\n",
    "    Baseball_Team(\"Pythons\", 68, 73, 2),\n",
    "    Baseball_Team(\"Owls\", 59, 82, 2)\n",
    "]\n",
    "print(\"{: <8}{: >5}{: >5}{: >5} {}\".format(\"team\", \"win\", \"lose\", \"draw\", \"rate\"))\n",
    "for team in teams:\n",
    "    team.show_team_result()\n"
   ]
  }
 ],
 "metadata": {
  "kernelspec": {
   "display_name": ".venv",
   "language": "python",
   "name": "python3"
  },
  "language_info": {
   "codemirror_mode": {
    "name": "ipython",
    "version": 3
   },
   "file_extension": ".py",
   "mimetype": "text/x-python",
   "name": "python",
   "nbconvert_exporter": "python",
   "pygments_lexer": "ipython3",
   "version": "3.12.11"
  }
 },
 "nbformat": 4,
 "nbformat_minor": 5
}
